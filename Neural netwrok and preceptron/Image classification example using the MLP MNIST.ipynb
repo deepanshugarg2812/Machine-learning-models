{
 "cells": [
  {
   "cell_type": "markdown",
   "metadata": {},
   "source": [
    "#### Image classification example using the MLP MNIST dataset"
   ]
  },
  {
   "cell_type": "code",
   "execution_count": 1,
   "metadata": {},
   "outputs": [
    {
     "name": "stdout",
     "output_type": "stream",
     "text": [
      "(1797, 64)\n",
      "(1797,)\n"
     ]
    }
   ],
   "source": [
    "### Data import\n",
    "from sklearn.datasets import load_digits\n",
    "data = load_digits().data\n",
    "target = load_digits().target\n",
    "print(data.shape)\n",
    "print(target.shape)"
   ]
  },
  {
   "cell_type": "code",
   "execution_count": 6,
   "metadata": {},
   "outputs": [
    {
     "data": {
      "image/png": "[encoded data removed]",
      "text/plain": [
       "<Figure size 576x396 with 1 Axes>"
      ]
     },
     "metadata": {},
     "output_type": "display_data"
    }
   ],
   "source": [
    "## Data visulization\n",
    "import matplotlib.pyplot as plt\n",
    "\n",
    "plt.style.use(\"seaborn\")\n",
    "a = data[0].reshape(8,8)\n",
    "plt.imshow(a)\n",
    "plt.title(\"First digit in the dataset\")\n",
    "plt.axis(\"off\")\n",
    "plt.show()"
   ]
  },
  {
   "cell_type": "code",
   "execution_count": 13,
   "metadata": {},
   "outputs": [
    {
     "name": "stdout",
     "output_type": "stream",
     "text": [
      "The shape of the input is (1797, 64) \n",
      "\n",
      "\n",
      "\n",
      "The shape after preprocessing \n",
      "\n",
      "The shape of X_Train is (1437, 64)\n",
      "The shape of Y_Train is (1437, 10)\n",
      "The shape of X_Test is (360, 64)\n",
      "The shape of Y_Test is (360, 10)\n"
     ]
    }
   ],
   "source": [
    "### Data preprocessing to feed to (feed forward net or MLP)\n",
    "X = data\n",
    "print(\"The shape of the input is {} \\n\\n\\n\".format(X.shape))\n",
    "\n",
    "from keras.utils import np_utils\n",
    "Y_ = np_utils.to_categorical(target)\n",
    "\n",
    "\n",
    "print(\"The shape after preprocessing \\n\")\n",
    "from sklearn.model_selection import train_test_split\n",
    "\n",
    "X_Train,X_Test,Y_Train,Y_Test = train_test_split(X,Y_,test_size = 0.2)\n",
    "print(\"The shape of X_Train is {}\".format(X_Train.shape))\n",
    "print(\"The shape of Y_Train is {}\".format(Y_Train.shape))\n",
    "print(\"The shape of X_Test is {}\".format(X_Test.shape))\n",
    "print(\"The shape of Y_Test is {}\".format(Y_Test.shape))"
   ]
  },
  {
   "cell_type": "code",
   "execution_count": 20,
   "metadata": {},
   "outputs": [
    {
     "name": "stdout",
     "output_type": "stream",
     "text": [
      "Model: \"sequential_2\"\n",
      "_________________________________________________________________\n",
      "Layer (type)                 Output Shape              Param #   \n",
      "=================================================================\n",
      "dense_5 (Dense)              (None, 128)               8320      \n",
      "_________________________________________________________________\n",
      "dense_6 (Dense)              (None, 64)                8256      \n",
      "_________________________________________________________________\n",
      "dense_7 (Dense)              (None, 32)                2080      \n",
      "_________________________________________________________________\n",
      "dense_8 (Dense)              (None, 10)                330       \n",
      "=================================================================\n",
      "Total params: 18,986\n",
      "Trainable params: 18,986\n",
      "Non-trainable params: 0\n",
      "_________________________________________________________________\n"
     ]
    }
   ],
   "source": [
    "## model\n",
    "from keras.layers import Dense\n",
    "from keras.models import Sequential\n",
    "\n",
    "model = Sequential()\n",
    "model.add(Dense(units = 128,activation = 'relu' , input_shape=(64,)))\n",
    "model.add(Dense(units = 64,activation = 'relu'))\n",
    "model.add(Dense(units = 32,activation = 'relu'))\n",
    "model.add(Dense(units = 10,activation = 'softmax'))\n",
    "model.summary()"
   ]
  },
  {
   "cell_type": "code",
   "execution_count": 21,
   "metadata": {},
   "outputs": [],
   "source": [
    "model.compile(optimizer='adam',loss='categorical_crossentropy')"
   ]
  },
  {
   "cell_type": "code",
   "execution_count": 22,
   "metadata": {},
   "outputs": [
    {
     "name": "stdout",
     "output_type": "stream",
     "text": [
      "Epoch 1/12\n",
      "1437/1437 [==============================] - 1s 455us/step - loss: 0.8212\n",
      "Epoch 2/12\n",
      "1437/1437 [==============================] - 0s 264us/step - loss: 0.1617\n",
      "Epoch 3/12\n",
      "1437/1437 [==============================] - 0s 261us/step - loss: 0.0881\n",
      "Epoch 4/12\n",
      "1437/1437 [==============================] - 0s 263us/step - loss: 0.0579\n",
      "Epoch 5/12\n",
      "1437/1437 [==============================] - 0s 287us/step - loss: 0.0504\n",
      "Epoch 6/12\n",
      "1437/1437 [==============================] - 0s 267us/step - loss: 0.0447\n",
      "Epoch 7/12\n",
      "1437/1437 [==============================] - 0s 255us/step - loss: 0.0213\n",
      "Epoch 8/12\n",
      "1437/1437 [==============================] - 0s 252us/step - loss: 0.0257\n",
      "Epoch 9/12\n",
      "1437/1437 [==============================] - 0s 255us/step - loss: 0.0213\n",
      "Epoch 10/12\n",
      "1437/1437 [==============================] - 0s 259us/step - loss: 0.0183\n",
      "Epoch 11/12\n",
      "1437/1437 [==============================] - 0s 259us/step - loss: 0.0036\n",
      "Epoch 12/12\n",
      "1437/1437 [==============================] - 0s 263us/step - loss: 0.0015\n"
     ]
    },
    {
     "data": {
      "text/plain": [
       "<keras.callbacks.callbacks.History at 0x1d54d97bfc8>"
      ]
     },
     "execution_count": 22,
     "metadata": {},
     "output_type": "execute_result"
    }
   ],
   "source": [
    "model.fit(X_Train,Y_Train,epochs=12,batch_size=8)"
   ]
  },
  {
   "cell_type": "code",
   "execution_count": 36,
   "metadata": {},
   "outputs": [
    {
     "name": "stdout",
     "output_type": "stream",
     "text": [
      "[1 3 0 6 9 6 7 3 7 9 4 9 4 1 9 2 7 4 9 6 8 4 4 1 2 6 8 9 5 9 7 9 5 7 3 9 0\n",
      " 0 5 1 7 6 7 5 9 5 4 3 2 1 5 0 0 1 6 6 5 4 4 8 6 3 3 1 1 1 8 6 5 1 4 9 2 6\n",
      " 6 6 2 3 1 4 7 3 7 0 0 0 1 3 1 5 0 3 9 9 9 9 7 2 0 9 6 9 9 8 7 8 6 6 2 8 2\n",
      " 5 1 2 2 3 5 4 5 8 2 6 7 6 8 4 6 3 9 8 1 7 0 4 5 5 8 7 6 0 5 4 0 1 3 1 9 9\n",
      " 9 6 0 8 7 2 5 3 8 2 6 3 2 6 6 4 4 5 5 0 5 7 6 5 2 4 7 7 6 2 4 3 4 3 2 8 0\n",
      " 9 2 7 6 3 3 8 1 1 0 8 8 6 6 4 4 0 0 2 4 9 4 2 4 1 8 0 7 9 6 6 2 9 0 7 9 1\n",
      " 4 7 6 1 0 0 0 8 8 0 5 7 0 4 0 1 9 0 1 7 7 1 7 8 5 3 7 1 4 8 1 4 8 1 9 0 1\n",
      " 5 2 0 1 9 6 3 4 4 6 3 7 9 9 3 3 9 9 7 3 9 9 0 8 3 2 1 1 9 3 3 2 1 4 2 6 0\n",
      " 4 3 3 5 3 4 0 5 2 3 7 1 5 6 5 1 3 0 6 8 1 9 1 8 3 9 8 2 0 5 6 3 9 0 6 9 5\n",
      " 8 1 1 1 7 7 3 9 6 6 5 5 0 5 5 0 3 2 3 2 3 7 8 1 2 5 3]\n"
     ]
    }
   ],
   "source": [
    "y_pred = model.predict_classes(X_Test)\n",
    "print(y_pred)"
   ]
  },
  {
   "cell_type": "code",
   "execution_count": null,
   "metadata": {},
   "outputs": [],
   "source": []
  }
 ],
 "metadata": {
  "kernelspec": {
   "display_name": "Python 3",
   "language": "python",
   "name": "python3"
  },
  "language_info": {
   "codemirror_mode": {
    "name": "ipython",
    "version": 3
   },
   "file_extension": ".py",
   "mimetype": "text/x-python",
   "name": "python",
   "nbconvert_exporter": "python",
   "pygments_lexer": "ipython3",
   "version": "3.7.4"
  }
 },
 "nbformat": 4,
 "nbformat_minor": 2
}
