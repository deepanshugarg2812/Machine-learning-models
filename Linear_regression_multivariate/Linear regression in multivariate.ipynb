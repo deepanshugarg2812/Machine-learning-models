{
 "cells": [
  {
   "cell_type": "markdown",
   "metadata": {},
   "source": [
    "#### Linear regression in multivariate using custum method and sklearn\n",
    "- Data import\n",
    "- Data preprocessing\n",
    "- Data visulization (Not in this case)\n",
    "- model\n",
    "- Accuracy"
   ]
  },
  {
   "cell_type": "code",
   "execution_count": 6,
   "metadata": {},
   "outputs": [
    {
     "name": "stdout",
     "output_type": "stream",
     "text": [
      "   feature_1  feature_2  feature_3  feature_4  feature_5      target\n",
      "0   0.293416  -0.945599  -0.421105   0.406816   0.525662  -82.154667\n",
      "1  -0.836084  -0.189228  -0.776403  -1.053831   0.597997  -48.897960\n",
      "2   0.236425   0.132836  -0.147723   0.699854  -0.187364   77.270371\n",
      "3   0.175312   0.143194  -0.581111  -0.122107  -1.292168   -2.988581\n",
      "4  -1.693011   0.542712  -2.798729  -0.686723   1.244077  -37.596722\n",
      "5  -1.055329  -0.874807   0.580753  -0.773541   1.070888 -122.405263\n",
      "6  -0.824707   0.499427   1.293281  -0.240671  -0.419136    1.413741\n",
      "7  -1.936602   0.583708  -0.521135  -0.631724  -1.030729  -13.306543\n",
      "8   0.647431  -0.265401   0.327080   0.457829  -1.757592  -25.754698\n",
      "9  -1.133029  -0.839132  -0.547809   0.551768  -0.639173  -57.077754\n"
     ]
    }
   ],
   "source": [
    "### Data import\n",
    "import pandas as pd\n",
    "\n",
    "data_Uncleaned_df = pd.read_csv('Train.csv')\n",
    "print(data_Uncleaned_df.head(n = 10))\n",
    "\n",
    "data_Uncleaned = data_Uncleaned_df.values"
   ]
  },
  {
   "cell_type": "code",
   "execution_count": 8,
   "metadata": {},
   "outputs": [],
   "source": [
    "### Extracting the target value\n",
    "\n",
    "data_Y = data_Uncleaned[:,-1:]\n",
    "data_X = data_Uncleaned[:,:-1]"
   ]
  },
  {
   "cell_type": "code",
   "execution_count": 16,
   "metadata": {},
   "outputs": [
    {
     "name": "stdout",
     "output_type": "stream",
     "text": [
      "The mean of the data is -0.01967029980670414\n",
      "The std of the data is 1.005427543067447\n"
     ]
    }
   ],
   "source": [
    "### Statistical data analysis\n",
    "\n",
    "print(\"The mean of the data is {}\".format(data_X.mean()))\n",
    "print(\"The std of the data is {}\".format(data_X.std()))"
   ]
  },
  {
   "cell_type": "code",
   "execution_count": 29,
   "metadata": {},
   "outputs": [],
   "source": [
    "#### Add the one in the front for the\n",
    "# h(x) = theta0*xi0 + theta0*xi0 + theta0*xi0 ... thetan*xin\n",
    "## where xi0 is 1\n",
    "\n",
    "import numpy as np\n",
    "X_ones = np.ones((data_X.shape[0],1))\n",
    "data_X = np.hstack((X_ones,data_X))"
   ]
  },
  {
   "cell_type": "code",
   "execution_count": 30,
   "metadata": {},
   "outputs": [
    {
     "name": "stdout",
     "output_type": "stream",
     "text": [
      "The size of X_Train is (1280, 6)\n",
      "The size of X_Test is (320, 6)\n",
      "The size of Y_Train is (1280, 1)\n",
      "The size of Y_Test is (320, 1)\n"
     ]
    }
   ],
   "source": [
    "### Dividing the data for the train and test\n",
    "\n",
    "from sklearn.model_selection import train_test_split\n",
    "X_Train,X_Test,Y_Train,Y_Test = train_test_split(data_X,data_Y,test_size=0.2)\n",
    "\n",
    "print(\"The size of X_Train is {}\".format(X_Train.shape))\n",
    "print(\"The size of X_Test is {}\".format(X_Test.shape))\n",
    "print(\"The size of Y_Train is {}\".format(Y_Train.shape))\n",
    "print(\"The size of Y_Test is {}\".format(Y_Test.shape))"
   ]
  },
  {
   "cell_type": "code",
   "execution_count": 61,
   "metadata": {},
   "outputs": [],
   "source": [
    "### model \n",
    "\"\"\"Written by deepanshu garg\"\"\"\n",
    "\n",
    "def hypothesis(x,theta):\n",
    "    \"\"\"Function return the prediction\"\"\"\n",
    "    return np.dot(x.T,theta)\n",
    "\n",
    "def error(x,y,theta):\n",
    "    \"\"\"Function return the error on the current theta values\"\"\"\n",
    "    loss = 0.0\n",
    "    for i in range(x.shape[0]):\n",
    "        loss += (hypothesis(x[i],theta) - y[i])**2\n",
    "    return loss/x.shape[0]\n",
    "\n",
    "def grad(x,y,theta):\n",
    "    \"\"\"Function implement the differential part of the gradient descent\"\"\"\n",
    "    grad_Values = np.zeros((x.shape[1],))\n",
    "    for i in range(x.shape[0]):\n",
    "        for j in range(x.shape[1]):\n",
    "            grad_Values[j] += (hypothesis(x[i],theta) - y[i])*x[i][j]\n",
    "    return grad_Values/x.shape[0]\n",
    "\n",
    "def gradientDescent(x,y,iterations = 300,learning_rate = 0.1):\n",
    "    \"\"\"Function implement the gradient descent\"\"\"\n",
    "    theta = np.zeros((x.shape[1],))\n",
    "    currItr = 0\n",
    "    errorValues = []\n",
    "    while currItr < iterations:\n",
    "        gradValues = grad(x,y,theta)\n",
    "        errorValues.append(error(x,y,theta))\n",
    "        theta = theta - learning_rate*gradValues\n",
    "        currItr += 1\n",
    "    return theta,errorValues"
   ]
  },
  {
   "cell_type": "code",
   "execution_count": 67,
   "metadata": {},
   "outputs": [],
   "source": [
    "theta,errorValues = gradientDescent(X_Train,Y_Train,iterations = 300)"
   ]
  },
  {
   "cell_type": "code",
   "execution_count": 68,
   "metadata": {},
   "outputs": [
    {
     "data": {
      "image/png": "[encoded data removed]",
      "text/plain": [
       "<Figure size 576x396 with 1 Axes>"
      ]
     },
     "metadata": {},
     "output_type": "display_data"
    }
   ],
   "source": [
    "### Visulizing the error graph\n",
    "\n",
    "import matplotlib.pyplot as plt\n",
    "\n",
    "plt.style.use(\"seaborn\")\n",
    "plt.plot(errorValues)\n",
    "plt.xlabel(\"Iterations\")\n",
    "plt.ylabel(\"Error\")\n",
    "plt.show()"
   ]
  },
  {
   "cell_type": "code",
   "execution_count": 69,
   "metadata": {},
   "outputs": [
    {
     "name": "stdout",
     "output_type": "stream",
     "text": [
      "[-102.196864220684, -41.57881934683342, 149.44732329785927, 83.29541564906656, 64.9628945742891]\n",
      "[[-122.27607552]\n",
      " [ -57.82408801]\n",
      " [ 138.17825366]\n",
      " [  77.3834247 ]\n",
      " [  68.01173246]]\n"
     ]
    }
   ],
   "source": [
    "### Predictions\n",
    "y_pred = []\n",
    "for i in range(X_Test.shape[0]):\n",
    "    y_pred.append(hypothesis(X_Test[i],theta))\n",
    "print(y_pred[:5])\n",
    "print(Y_Test[:5])"
   ]
  },
  {
   "cell_type": "code",
   "execution_count": 77,
   "metadata": {},
   "outputs": [
    {
     "data": {
      "text/plain": [
       "LinearRegression(copy_X=True, fit_intercept=True, n_jobs=None, normalize=False)"
      ]
     },
     "execution_count": 77,
     "metadata": {},
     "output_type": "execute_result"
    }
   ],
   "source": [
    "### Using the sklearn\n",
    "\n",
    "from sklearn.linear_model import LinearRegression\n",
    "lr = LinearRegression()\n",
    "lr.fit(data_X,data_Y)"
   ]
  },
  {
   "cell_type": "code",
   "execution_count": 78,
   "metadata": {},
   "outputs": [
    {
     "data": {
      "text/plain": [
       "0.9660939669975616"
      ]
     },
     "execution_count": 78,
     "metadata": {},
     "output_type": "execute_result"
    }
   ],
   "source": [
    "lr.score(data_X,data_Y)"
   ]
  },
  {
   "cell_type": "code",
   "execution_count": null,
   "metadata": {},
   "outputs": [],
   "source": []
  }
 ],
 "metadata": {
  "kernelspec": {
   "display_name": "Python 3",
   "language": "python",
   "name": "python3"
  },
  "language_info": {
   "codemirror_mode": {
    "name": "ipython",
    "version": 3
   },
   "file_extension": ".py",
   "mimetype": "text/x-python",
   "name": "python",
   "nbconvert_exporter": "python",
   "pygments_lexer": "ipython3",
   "version": "3.7.4"
  }
 },
 "nbformat": 4,
 "nbformat_minor": 2
}
