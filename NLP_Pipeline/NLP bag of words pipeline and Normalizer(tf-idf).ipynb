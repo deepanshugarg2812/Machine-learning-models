{
 "cells": [
  {
   "cell_type": "markdown",
   "metadata": {},
   "source": [
    "#### Natural language preprocessing pipeline using the sklearn and custum code (Model is called Bag of Words)\n",
    "- Data import (In our case we will ourself create some of the data)\n",
    "- Data preprocessing (NLP pipeline)\n",
    "- Toekinzation or word seperation \n",
    "- Stop words removal ( Removal of the unnecessary words)\n",
    "- Lemmatization or the stemming (Using the sklearn library)\n",
    "\n",
    "- Constructing the vocab\n",
    "- Bigram and trigrams (Explanation and use)\n",
    "- Tf-Idf normalization"
   ]
  },
  {
   "cell_type": "code",
   "execution_count": 3,
   "metadata": {},
   "outputs": [
    {
     "name": "stdout",
     "output_type": "stream",
     "text": [
      "Brown contain ['adventure', 'belles_lettres', 'editorial', 'fiction', 'government', 'hobbies', 'humor', 'learned', 'lore', 'mystery', 'news', 'religion', 'reviews', 'romance', 'science_fiction'] total is 15\n"
     ]
    }
   ],
   "source": [
    "### Exploring the different dataset in the corpus\n",
    "from nltk.corpus import brown\n",
    "\n",
    "print(\"Brown contain {} total is {}\".format(brown.categories(),len(brown.categories())))"
   ]
  },
  {
   "cell_type": "code",
   "execution_count": 7,
   "metadata": {},
   "outputs": [
    {
     "name": "stdout",
     "output_type": "stream",
     "text": [
      "4249\n"
     ]
    }
   ],
   "source": [
    "data = brown.sents(categories = 'fiction')\n",
    "print(len(data))"
   ]
  },
  {
   "cell_type": "code",
   "execution_count": 9,
   "metadata": {},
   "outputs": [
    {
     "data": {
      "text/plain": [
       "'Scotty did not go back to school .'"
      ]
     },
     "execution_count": 9,
     "metadata": {},
     "output_type": "execute_result"
    }
   ],
   "source": [
    "#1 sentence in fiction category\n",
    "' '.join(data[1])"
   ]
  },
  {
   "cell_type": "code",
   "execution_count": 12,
   "metadata": {},
   "outputs": [],
   "source": [
    "### Data \n",
    "document = \"\"\"It was a very pleasant day. The weather was cool and there were light showers. \n",
    "I went to the market to buy some fruits.\"\"\"\n",
    "\n",
    "sentence = \"Send all the 50 documents related to chapters 1,2,3 at prateek@cb.com\""
   ]
  },
  {
   "cell_type": "code",
   "execution_count": 14,
   "metadata": {},
   "outputs": [],
   "source": [
    "### Tokenization using the sklearn\n",
    "from nltk.tokenize import sent_tokenize,word_tokenize\n",
    "st = sent_tokenize(document)\n",
    "wt = word_tokenize(document)"
   ]
  },
  {
   "cell_type": "code",
   "execution_count": 44,
   "metadata": {},
   "outputs": [],
   "source": [
    "### Tokenization using the custum code\n",
    "\n",
    "def tokenizeSent(data,typeOfTokenize):\n",
    "    \"\"\"Tokenize the sentense\"\"\"\n",
    "    if(typeOfTokenize==\"sentTokenize\"):\n",
    "        data = data.split('.')\n",
    "        return data\n",
    "    elif(typeOfTokenize==\"wordTokenize\"):\n",
    "        data = data.split(' ')\n",
    "        return data\n",
    "    else:\n",
    "        print(\"Tokenize type not available\")\n",
    "        return \"Error\"\n",
    "\n",
    "TokenizedWord = tokenizeSent(document,\"wordTokenize\")"
   ]
  },
  {
   "cell_type": "code",
   "execution_count": 45,
   "metadata": {},
   "outputs": [
    {
     "name": "stdout",
     "output_type": "stream",
     "text": [
      "['It', 'pleasant', 'day.', 'The', 'weather', 'cool', 'light', 'showers.', '\\nI', 'went', 'market', 'buy', 'fruits.']\n"
     ]
    }
   ],
   "source": [
    "### StopWords removal using the inbuilt stopwords dataset\n",
    "from nltk.corpus import stopwords\n",
    "sw = set(stopwords.words('english'))\n",
    "\n",
    "def stopWordsRemoval(document):\n",
    "    data = tokenizeSent(document,\"wordTokenize\")\n",
    "    useful_words = [i for i in data if i not in sw]\n",
    "    return useful_words\n",
    "\n",
    "print(stopWordsRemoval(document))"
   ]
  },
  {
   "cell_type": "code",
   "execution_count": 53,
   "metadata": {},
   "outputs": [
    {
     "name": "stdout",
     "output_type": "stream",
     "text": [
      "['pleasant', 'day.', 'weather', 'cool', 'and', 'light', 'showers.', '\\nI', 'went', 'market', 'buy', 'some', 'fruits.']\n"
     ]
    }
   ],
   "source": [
    "## StopWords removal using the custum words\n",
    "sw_custum = set(['is','It','There','there','was','were','very','a','The','the','to'])\n",
    "\n",
    "def stopWordsRemoval_custum(document):\n",
    "    data = tokenizeSent(document,\"wordTokenize\")\n",
    "    useful_words = [i for i in data if i not in sw_custum]\n",
    "    return useful_words\n",
    "\n",
    "print(stopWordsRemoval_custum(document))"
   ]
  },
  {
   "cell_type": "code",
   "execution_count": 58,
   "metadata": {},
   "outputs": [
    {
     "name": "stdout",
     "output_type": "stream",
     "text": [
      "jump\n",
      "jump\n"
     ]
    }
   ],
   "source": [
    "### Stemming using the sklearn \n",
    "from nltk.stem import PorterStemmer,SnowballStemmer,LancasterStemmer\n",
    "\n",
    "ps = PorterStemmer()\n",
    "print(ps.stem('jumping'))\n",
    "\n",
    "ss = SnowballStemmer('english')\n",
    "print(ss.stem('jumping'))"
   ]
  },
  {
   "cell_type": "code",
   "execution_count": 59,
   "metadata": {},
   "outputs": [
    {
     "data": {
      "text/plain": [
       "'jumping'"
      ]
     },
     "execution_count": 59,
     "metadata": {},
     "output_type": "execute_result"
    }
   ],
   "source": [
    "## Lemmatization\n",
    "from nltk.stem import WordNetLemmatizer\n",
    "\n",
    "wn = WordNetLemmatizer()\n",
    "wn.lemmatize('jumping')"
   ]
  },
  {
   "cell_type": "code",
   "execution_count": 78,
   "metadata": {},
   "outputs": [
    {
     "name": "stdout",
     "output_type": "stream",
     "text": [
      "{'Indian': 0, 'cricket': 1, 'team': 2, 'will': 3, 'wins': 4, 'World': 5, 'Cup,': 6, 'says': 7, 'Capt.': 8, 'Virat': 9, 'Kohli.': 10, 'cup': 11, 'be': 12, 'held': 13, 'at': 14, 'Sri': 15, 'Lanka.': 16, 'We': 17, 'win': 18, 'next': 19, 'Lok': 20, 'Sabha': 21, 'Elections,': 22, 'confident': 23, 'PM': 24, 'The': 25, 'nobel': 26, 'laurate': 27, 'won': 28, 'the': 29, 'hearts': 30, 'of': 31, 'people.': 32, 'movie': 33, 'Raazi': 34, 'is': 35, 'an': 36, 'exciting': 37, 'Spy': 38, 'thriller': 39, 'based': 40, 'upon': 41, 'a': 42, 'real': 43, 'story.': 44}\n",
      "The length of the vocab is 45\n",
      "[1, 1, 1, 2, 1, 2, 1, 1, 1, 1, 1, 1, 1, 1, 1, 1, 1, 0, 0, 0, 0, 0, 0, 0, 0, 0, 0, 0, 0, 0, 0, 0, 0, 0, 0, 0, 0, 0, 0, 0, 0, 0, 0, 0, 0]\n"
     ]
    }
   ],
   "source": [
    "### Building the vocab using the custum code\n",
    "corpus = [\n",
    "        'Indian cricket team will wins World Cup, says Capt. Virat Kohli. World cup will be held at Sri Lanka.',\n",
    "        'We will win next Lok Sabha Elections, says confident Indian PM',\n",
    "        'The nobel laurate won the hearts of the people.',\n",
    "        'The movie Raazi is an exciting Indian Spy thriller based upon a real story.'\n",
    "]\n",
    "\n",
    "## Create the dict for the uncommon words\n",
    "VocabDict = {}\n",
    "\n",
    "count = 0\n",
    "\n",
    "for i in corpus:\n",
    "    for j in i.split(' '):\n",
    "        if(j not in VocabDict):\n",
    "            VocabDict[j] = count\n",
    "            count += 1\n",
    "\n",
    "print(VocabDict)\n",
    "print(\"The length of the vocab is {}\".format(len(VocabDict)))\n",
    "\n",
    "vector_coupus = [0]*len(VocabDict)\n",
    "for i in corpus[0].split(' '):\n",
    "    vector_coupus[VocabDict[i]] += 1\n",
    "    \n",
    "print(vector_coupus)"
   ]
  },
  {
   "cell_type": "code",
   "execution_count": 69,
   "metadata": {},
   "outputs": [
    {
     "name": "stdout",
     "output_type": "stream",
     "text": [
      "[0 1 0 1 1 0 1 2 0 0 0 1 1 0 1 1 0 0 0 0 0 0 0 0 0 0 0 1 0 1 0 1 0 0 0 1 0\n",
      " 2 0 1 0 2]\n"
     ]
    }
   ],
   "source": [
    "##USing the sklearn\n",
    "\n",
    "from sklearn.feature_extraction.text import CountVectorizer\n",
    "cv = CountVectorizer()\n",
    "vectorized_corpus = cv.fit_transform(corpus)\n",
    "vectorized_corpus = vectorized_corpus.toarray()\n",
    "\n",
    "print(vectorized_corpus[0])"
   ]
  },
  {
   "cell_type": "code",
   "execution_count": 71,
   "metadata": {},
   "outputs": [
    {
     "name": "stdout",
     "output_type": "stream",
     "text": [
      "{'indian': 12, 'cricket': 6, 'team': 31, 'will': 37, 'wins': 39, 'world': 41, 'cup': 7, 'says': 27, 'capt': 4, 'virat': 35, 'kohli': 14, 'be': 3, 'held': 11, 'at': 1, 'sri': 29, 'lanka': 15, 'we': 36, 'win': 38, 'next': 19, 'lok': 17, 'sabha': 26, 'elections': 8, 'confident': 5, 'pm': 23, 'the': 32, 'nobel': 20, 'laurate': 16, 'won': 40, 'hearts': 10, 'of': 21, 'people': 22, 'movie': 18, 'raazi': 24, 'is': 13, 'an': 0, 'exciting': 9, 'spy': 28, 'thriller': 33, 'based': 2, 'upon': 34, 'real': 25, 'story': 30}\n",
      "42\n"
     ]
    }
   ],
   "source": [
    "print(cv.vocabulary_)\n",
    "print(len(cv.vocabulary_))"
   ]
  },
  {
   "cell_type": "code",
   "execution_count": 72,
   "metadata": {},
   "outputs": [
    {
     "name": "stdout",
     "output_type": "stream",
     "text": [
      "[array(['at', 'be', 'capt', 'cricket', 'cup', 'held', 'indian', 'kohli',\n",
      "       'lanka', 'says', 'sri', 'team', 'virat', 'will', 'wins', 'world'],\n",
      "      dtype='<U9'), array(['confident', 'elections', 'indian', 'lok', 'next', 'pm', 'sabha',\n",
      "       'says', 'we', 'will', 'win'], dtype='<U9'), array(['hearts', 'laurate', 'nobel', 'of', 'people', 'the', 'won'],\n",
      "      dtype='<U9'), array(['an', 'based', 'exciting', 'indian', 'is', 'movie', 'raazi',\n",
      "       'real', 'spy', 'story', 'the', 'thriller', 'upon'], dtype='<U9')]\n"
     ]
    }
   ],
   "source": [
    "s = cv.inverse_transform(vectorized_corpus)\n",
    "print(s)"
   ]
  },
  {
   "cell_type": "code",
   "execution_count": 84,
   "metadata": {},
   "outputs": [
    {
     "name": "stdout",
     "output_type": "stream",
     "text": [
      "[0 0 0 1 1 1 0 0 0 1 1 1 1 1 1 0 0 0 1 1 1 2 1 1 1 1 0 0 0 0 0 0 0 0 0 1 1\n",
      " 1 1 1 1 0 0 0 0 0 0 1 1 1 1 0 0 0 0 0 0 0 0 0 0 0 0 0 0 0 0 0 0 0 0 0 0 0\n",
      " 0 0 0 0 0 1 1 1 0 0 0 0 0 1 1 0 1 1 1 0 0 0 0 0 0 0 0 0 0 0 0 0 0 1 1 1 0\n",
      " 0 0 2 1 1 0 0 1 1 0 0 0 1 1 1 0 0 0 2 2 1 1]\n"
     ]
    }
   ],
   "source": [
    "### USe of ngrams and bgrams\n",
    "cv = CountVectorizer(ngram_range=(1,3))\n",
    "vectorized_corpus = cv.fit_transform(corpus).toarray()\n",
    "print(vectorized_corpus[0])"
   ]
  },
  {
   "cell_type": "code",
   "execution_count": 85,
   "metadata": {},
   "outputs": [
    {
     "name": "stdout",
     "output_type": "stream",
     "text": [
      "[array(['at', 'at sri', 'at sri lanka', 'be', 'be held', 'be held at',\n",
      "       'capt', 'capt virat', 'capt virat kohli', 'cricket',\n",
      "       'cricket team', 'cricket team will', 'cup', 'cup says',\n",
      "       'cup says capt', 'cup will', 'cup will be', 'held', 'held at',\n",
      "       'held at sri', 'indian', 'indian cricket', 'indian cricket team',\n",
      "       'kohli', 'kohli world', 'kohli world cup', 'lanka', 'says',\n",
      "       'says capt', 'says capt virat', 'sri', 'sri lanka', 'team',\n",
      "       'team will', 'team will wins', 'virat', 'virat kohli',\n",
      "       'virat kohli world', 'will', 'will be', 'will be held',\n",
      "       'will wins', 'will wins world', 'wins', 'wins world',\n",
      "       'wins world cup', 'world', 'world cup', 'world cup says',\n",
      "       'world cup will'], dtype='<U24'), array(['confident', 'confident indian', 'confident indian pm',\n",
      "       'elections', 'elections says', 'elections says confident',\n",
      "       'indian', 'indian pm', 'lok', 'lok sabha', 'lok sabha elections',\n",
      "       'next', 'next lok', 'next lok sabha', 'pm', 'sabha',\n",
      "       'sabha elections', 'sabha elections says', 'says',\n",
      "       'says confident', 'says confident indian', 'we', 'we will',\n",
      "       'we will win', 'will', 'will win', 'will win next', 'win',\n",
      "       'win next', 'win next lok'], dtype='<U24'), array(['hearts', 'hearts of', 'hearts of the', 'laurate', 'laurate won',\n",
      "       'laurate won the', 'nobel', 'nobel laurate', 'nobel laurate won',\n",
      "       'of', 'of the', 'of the people', 'people', 'the', 'the hearts',\n",
      "       'the hearts of', 'the nobel', 'the nobel laurate', 'the people',\n",
      "       'won', 'won the', 'won the hearts'], dtype='<U24'), array(['an', 'an exciting', 'an exciting indian', 'based', 'based upon',\n",
      "       'based upon real', 'exciting', 'exciting indian',\n",
      "       'exciting indian spy', 'indian', 'indian spy',\n",
      "       'indian spy thriller', 'is', 'is an', 'is an exciting', 'movie',\n",
      "       'movie raazi', 'movie raazi is', 'raazi', 'raazi is',\n",
      "       'raazi is an', 'real', 'real story', 'spy', 'spy thriller',\n",
      "       'spy thriller based', 'story', 'the', 'the movie',\n",
      "       'the movie raazi', 'thriller', 'thriller based',\n",
      "       'thriller based upon', 'upon', 'upon real', 'upon real story'],\n",
      "      dtype='<U24')]\n"
     ]
    }
   ],
   "source": [
    "s = cv.inverse_transform(vectorized_corpus)\n",
    "print(s)"
   ]
  },
  {
   "cell_type": "markdown",
   "metadata": {},
   "source": [
    "##### Tf-idf Normalisation\n",
    "- Avoid features that occur very often, becauase they contain less information\n",
    "- Information decreases as the number of occurences increases across different type of documents\n",
    "- So we define another term - term-document-frequency which associates a weight with every term\n",
    "- Formula used is log(N/1+count(t,D))"
   ]
  },
  {
   "cell_type": "code",
   "execution_count": 86,
   "metadata": {},
   "outputs": [
    {
     "name": "stdout",
     "output_type": "stream",
     "text": [
      "[[0.         0.21074652 0.         0.21074652 0.21074652 0.\n",
      "  0.21074652 0.42149305 0.         0.         0.         0.21074652\n",
      "  0.13451678 0.         0.21074652 0.21074652 0.         0.\n",
      "  0.         0.         0.         0.         0.         0.\n",
      "  0.         0.         0.         0.16615498 0.         0.21074652\n",
      "  0.         0.21074652 0.         0.         0.         0.21074652\n",
      "  0.         0.33230996 0.         0.21074652 0.         0.42149305]\n",
      " [0.         0.         0.         0.         0.         0.32190145\n",
      "  0.         0.         0.32190145 0.         0.         0.\n",
      "  0.20546553 0.         0.         0.         0.         0.32190145\n",
      "  0.         0.32190145 0.         0.         0.         0.32190145\n",
      "  0.         0.         0.32190145 0.2537908  0.         0.\n",
      "  0.         0.         0.         0.         0.         0.\n",
      "  0.32190145 0.2537908  0.32190145 0.         0.         0.        ]\n",
      " [0.         0.         0.         0.         0.         0.\n",
      "  0.         0.         0.         0.         0.29368184 0.\n",
      "  0.         0.         0.         0.         0.29368184 0.\n",
      "  0.         0.         0.29368184 0.29368184 0.29368184 0.\n",
      "  0.         0.         0.         0.         0.         0.\n",
      "  0.         0.         0.69462641 0.         0.         0.\n",
      "  0.         0.         0.         0.         0.29368184 0.        ]\n",
      " [0.28832691 0.         0.28832691 0.         0.         0.\n",
      "  0.         0.         0.         0.28832691 0.         0.\n",
      "  0.18403533 0.28832691 0.         0.         0.         0.\n",
      "  0.28832691 0.         0.         0.         0.         0.\n",
      "  0.28832691 0.28832691 0.         0.         0.28832691 0.\n",
      "  0.28832691 0.         0.22732025 0.28832691 0.28832691 0.\n",
      "  0.         0.         0.         0.         0.         0.        ]]\n"
     ]
    }
   ],
   "source": [
    "from sklearn.feature_extraction.text import TfidfVectorizer\n",
    "tfidf = TfidfVectorizer()\n",
    "vc = tfidf.fit_transform(corpus).toarray()\n",
    "print(vc)"
   ]
  },
  {
   "cell_type": "code",
   "execution_count": 88,
   "metadata": {},
   "outputs": [
    {
     "name": "stdout",
     "output_type": "stream",
     "text": [
      "['an', 'at', 'based', 'be', 'capt', 'confident', 'cricket', 'cup', 'elections', 'exciting', 'hearts', 'held', 'indian', 'is', 'kohli', 'lanka', 'laurate', 'lok', 'movie', 'next', 'nobel', 'of', 'people', 'pm', 'raazi', 'real', 'sabha', 'says', 'spy', 'sri', 'story', 'team', 'the', 'thriller', 'upon', 'virat', 'we', 'will', 'win', 'wins', 'won', 'world']\n"
     ]
    }
   ],
   "source": [
    "print(tfidf.get_feature_names())"
   ]
  },
  {
   "cell_type": "code",
   "execution_count": null,
   "metadata": {},
   "outputs": [],
   "source": []
  }
 ],
 "metadata": {
  "kernelspec": {
   "display_name": "Python 3",
   "language": "python",
   "name": "python3"
  },
  "language_info": {
   "codemirror_mode": {
    "name": "ipython",
    "version": 3
   },
   "file_extension": ".py",
   "mimetype": "text/x-python",
   "name": "python",
   "nbconvert_exporter": "python",
   "pygments_lexer": "ipython3",
   "version": "3.7.4"
  }
 },
 "nbformat": 4,
 "nbformat_minor": 2
}
