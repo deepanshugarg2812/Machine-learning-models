{
 "cells": [
  {
   "cell_type": "markdown",
   "metadata": {},
   "source": [
    "#### Emoji prediction"
   ]
  },
  {
   "cell_type": "code",
   "execution_count": 33,
   "metadata": {},
   "outputs": [
    {
     "data": {
      "text/html": [
       "<div>\n",
       "<style scoped>\n",
       "    .dataframe tbody tr th:only-of-type {\n",
       "        vertical-align: middle;\n",
       "    }\n",
       "\n",
       "    .dataframe tbody tr th {\n",
       "        vertical-align: top;\n",
       "    }\n",
       "\n",
       "    .dataframe thead th {\n",
       "        text-align: right;\n",
       "    }\n",
       "</style>\n",
       "<table border=\"1\" class=\"dataframe\">\n",
       "  <thead>\n",
       "    <tr style=\"text-align: right;\">\n",
       "      <th></th>\n",
       "      <th>0</th>\n",
       "      <th>1</th>\n",
       "      <th>2</th>\n",
       "      <th>3</th>\n",
       "    </tr>\n",
       "  </thead>\n",
       "  <tbody>\n",
       "    <tr>\n",
       "      <th>0</th>\n",
       "      <td>never talk to me again</td>\n",
       "      <td>3</td>\n",
       "      <td>NaN</td>\n",
       "      <td>NaN</td>\n",
       "    </tr>\n",
       "    <tr>\n",
       "      <th>1</th>\n",
       "      <td>I am proud of your achievements</td>\n",
       "      <td>2</td>\n",
       "      <td>NaN</td>\n",
       "      <td>NaN</td>\n",
       "    </tr>\n",
       "    <tr>\n",
       "      <th>2</th>\n",
       "      <td>It is the worst day in my life</td>\n",
       "      <td>3</td>\n",
       "      <td>NaN</td>\n",
       "      <td>NaN</td>\n",
       "    </tr>\n",
       "    <tr>\n",
       "      <th>3</th>\n",
       "      <td>Miss you so much</td>\n",
       "      <td>0</td>\n",
       "      <td>NaN</td>\n",
       "      <td>[0]</td>\n",
       "    </tr>\n",
       "    <tr>\n",
       "      <th>4</th>\n",
       "      <td>food is life</td>\n",
       "      <td>4</td>\n",
       "      <td>NaN</td>\n",
       "      <td>NaN</td>\n",
       "    </tr>\n",
       "    <tr>\n",
       "      <th>5</th>\n",
       "      <td>I love you mum</td>\n",
       "      <td>0</td>\n",
       "      <td>NaN</td>\n",
       "      <td>NaN</td>\n",
       "    </tr>\n",
       "    <tr>\n",
       "      <th>6</th>\n",
       "      <td>Stop saying bullshit</td>\n",
       "      <td>3</td>\n",
       "      <td>NaN</td>\n",
       "      <td>NaN</td>\n",
       "    </tr>\n",
       "    <tr>\n",
       "      <th>7</th>\n",
       "      <td>congratulations on your acceptance</td>\n",
       "      <td>2</td>\n",
       "      <td>NaN</td>\n",
       "      <td>NaN</td>\n",
       "    </tr>\n",
       "    <tr>\n",
       "      <th>8</th>\n",
       "      <td>The assignment is too long</td>\n",
       "      <td>3</td>\n",
       "      <td>NaN</td>\n",
       "      <td>NaN</td>\n",
       "    </tr>\n",
       "    <tr>\n",
       "      <th>9</th>\n",
       "      <td>I want to go play</td>\n",
       "      <td>1</td>\n",
       "      <td>NaN</td>\n",
       "      <td>[3]</td>\n",
       "    </tr>\n",
       "  </tbody>\n",
       "</table>\n",
       "</div>"
      ],
      "text/plain": [
       "                                    0  1   2     3\n",
       "0              never talk to me again  3 NaN   NaN\n",
       "1     I am proud of your achievements  2 NaN   NaN\n",
       "2      It is the worst day in my life  3 NaN   NaN\n",
       "3                    Miss you so much  0 NaN   [0]\n",
       "4                        food is life  4 NaN   NaN\n",
       "5                      I love you mum  0 NaN   NaN\n",
       "6                Stop saying bullshit  3 NaN   NaN\n",
       "7  congratulations on your acceptance  2 NaN   NaN\n",
       "8         The assignment is too long   3 NaN   NaN\n",
       "9                   I want to go play  1 NaN   [3]"
      ]
     },
     "execution_count": 33,
     "metadata": {},
     "output_type": "execute_result"
    }
   ],
   "source": [
    "## Data import\n",
    "import pandas as pd\n",
    "\n",
    "train_data = pd.read_csv('train_emoji.csv',header = None)\n",
    "test_data =  pd.read_csv('test_emoji.csv',header = None)\n",
    "\n",
    "train_data.head(n=10)"
   ]
  },
  {
   "cell_type": "code",
   "execution_count": 34,
   "metadata": {},
   "outputs": [],
   "source": [
    "## Emoji Dictionary and values\n",
    "emoji_dictionary = {\"0\": \"\\u2764\\uFE0F\",    # :heart: prints a black instead of red heart depending on the font\n",
    "                    \"1\": \":baseball:\",\n",
    "                    \"2\": \":beaming_face_with_smiling_eyes:\",\n",
    "                    \"3\": \":downcast_face_with_sweat:\",\n",
    "                    \"4\": \":fork_and_knife:\",\n",
    "                   }"
   ]
  },
  {
   "cell_type": "code",
   "execution_count": 35,
   "metadata": {},
   "outputs": [
    {
     "name": "stdout",
     "output_type": "stream",
     "text": [
      "❤️\n",
      "⚾\n",
      "😁\n",
      "😓\n",
      "🍴\n"
     ]
    }
   ],
   "source": [
    "## Visilize emoji\n",
    "import emoji as emoji\n",
    "\n",
    "for e in emoji_dictionary.values():\n",
    "    print(emoji.emojize(e))"
   ]
  },
  {
   "cell_type": "code",
   "execution_count": 36,
   "metadata": {},
   "outputs": [
    {
     "name": "stdout",
     "output_type": "stream",
     "text": [
      "never talk to me again 😓\n",
      "I am proud of your achievements 😁\n",
      "It is the worst day in my life 😓\n",
      "Miss you so much ❤️\n",
      "food is life 🍴\n",
      "I love you mum ❤️\n",
      "Stop saying bullshit 😓\n",
      "congratulations on your acceptance 😁\n",
      "The assignment is too long  😓\n",
      "I want to go play ⚾\n"
     ]
    }
   ],
   "source": [
    "data = train_data.values\n",
    "for i in range(10):\n",
    "    print(data[i][0],emoji.emojize(emoji_dictionary[str(data[i][1])]))"
   ]
  },
  {
   "cell_type": "code",
   "execution_count": 37,
   "metadata": {},
   "outputs": [
    {
     "name": "stdout",
     "output_type": "stream",
     "text": [
      "(132,)\n",
      "(56,)\n",
      "(132, 5)\n",
      "(56, 5)\n"
     ]
    }
   ],
   "source": [
    "### Converting y in one hot vector\n",
    "from keras.utils import to_categorical\n",
    "\n",
    "XT = train_data[0]\n",
    "Xt = test_data[0]\n",
    "\n",
    "YT = to_categorical(train_data[1])\n",
    "Yt = to_categorical(test_data[1])\n",
    "\n",
    "\n",
    "print(XT.shape)\n",
    "print(Xt.shape)\n",
    "print(YT.shape)\n",
    "print(Yt.shape)"
   ]
  },
  {
   "cell_type": "code",
   "execution_count": 38,
   "metadata": {},
   "outputs": [],
   "source": [
    "## Preparation for the embedding layer\n",
    "import numpy as np\n",
    "\n",
    "embeddings = {}\n",
    "with open('glove.6B.50d.txt',encoding='utf-8') as f:\n",
    "    for line in f:\n",
    "        values = line.split()\n",
    "        word = values[0]\n",
    "        coeffs = np.asarray(values[1:],dtype='float32')\n",
    "        \n",
    "        #print(word)\n",
    "        #print(coeffs)\n",
    "        embeddings[word] = coeffs"
   ]
  },
  {
   "cell_type": "code",
   "execution_count": 39,
   "metadata": {},
   "outputs": [
    {
     "name": "stdout",
     "output_type": "stream",
     "text": [
      "(132, 10, 50)\n",
      "(56, 10, 50)\n"
     ]
    },
    {
     "name": "stderr",
     "output_type": "stream",
     "text": [
      "c:\\users\\deepa\\appdata\\local\\programs\\python\\python37\\lib\\site-packages\\ipykernel_launcher.py:5: SettingWithCopyWarning: \n",
      "A value is trying to be set on a copy of a slice from a DataFrame\n",
      "\n",
      "See the caveats in the documentation: http://pandas.pydata.org/pandas-docs/stable/user_guide/indexing.html#returning-a-view-versus-a-copy\n",
      "  \"\"\"\n"
     ]
    }
   ],
   "source": [
    "def getOutputEmbeddings(X):\n",
    "    \n",
    "    embedding_matrix_output = np.zeros((X.shape[0],10,50))\n",
    "    for ix in range(X.shape[0]):\n",
    "        X[ix] = X[ix].split()\n",
    "        for jx in range(len(X[ix])):\n",
    "            embedding_matrix_output[ix][jx] = embeddings[X[ix][jx].lower()]\n",
    "            \n",
    "    return embedding_matrix_output\n",
    "\n",
    "emb_XT = getOutputEmbeddings(XT)\n",
    "emb_Xt = getOutputEmbeddings(Xt)\n",
    "\n",
    "print(emb_XT.shape)\n",
    "print(emb_Xt.shape)"
   ]
  },
  {
   "cell_type": "code",
   "execution_count": 40,
   "metadata": {},
   "outputs": [
    {
     "name": "stdout",
     "output_type": "stream",
     "text": [
      "Model: \"sequential_2\"\n",
      "_________________________________________________________________\n",
      "Layer (type)                 Output Shape              Param #   \n",
      "=================================================================\n",
      "lstm_3 (LSTM)                (None, 10, 64)            29440     \n",
      "_________________________________________________________________\n",
      "dropout_3 (Dropout)          (None, 10, 64)            0         \n",
      "_________________________________________________________________\n",
      "lstm_4 (LSTM)                (None, 64)                33024     \n",
      "_________________________________________________________________\n",
      "dropout_4 (Dropout)          (None, 64)                0         \n",
      "_________________________________________________________________\n",
      "dense_2 (Dense)              (None, 5)                 325       \n",
      "_________________________________________________________________\n",
      "activation_2 (Activation)    (None, 5)                 0         \n",
      "=================================================================\n",
      "Total params: 62,789\n",
      "Trainable params: 62,789\n",
      "Non-trainable params: 0\n",
      "_________________________________________________________________\n"
     ]
    }
   ],
   "source": [
    "from keras.layers import *\n",
    "from keras.models import Sequential\n",
    "\n",
    "model = Sequential()\n",
    "model.add(LSTM(64,input_shape=(10,50),return_sequences=True))\n",
    "model.add(Dropout(0.4))\n",
    "model.add(LSTM(64,input_shape=(10,50)))\n",
    "model.add(Dropout(0.3))\n",
    "model.add(Dense(5))\n",
    "model.add(Activation('softmax'))\n",
    "model.summary()"
   ]
  },
  {
   "cell_type": "code",
   "execution_count": 41,
   "metadata": {},
   "outputs": [
    {
     "name": "stdout",
     "output_type": "stream",
     "text": [
      "Train on 118 samples, validate on 14 samples\n",
      "Epoch 1/40\n",
      "118/118 [==============================] - 2s 16ms/step - loss: 1.5804 - acc: 0.2712 - val_loss: 1.6193 - val_acc: 0.2143\n",
      "Epoch 2/40\n",
      "118/118 [==============================] - 0s 656us/step - loss: 1.5358 - acc: 0.3814 - val_loss: 1.6216 - val_acc: 0.3571\n",
      "Epoch 3/40\n",
      "118/118 [==============================] - 0s 862us/step - loss: 1.5152 - acc: 0.3136 - val_loss: 1.6162 - val_acc: 0.2857\n",
      "Epoch 4/40\n",
      "118/118 [==============================] - 0s 815us/step - loss: 1.5073 - acc: 0.3051 - val_loss: 1.6106 - val_acc: 0.3571\n",
      "Epoch 5/40\n",
      "118/118 [==============================] - 0s 721us/step - loss: 1.4299 - acc: 0.3729 - val_loss: 1.5794 - val_acc: 0.3571\n",
      "Epoch 6/40\n",
      "118/118 [==============================] - 0s 706us/step - loss: 1.3896 - acc: 0.4576 - val_loss: 1.5325 - val_acc: 0.1429\n",
      "Epoch 7/40\n",
      "118/118 [==============================] - 0s 677us/step - loss: 1.3470 - acc: 0.4915 - val_loss: 1.4652 - val_acc: 0.2857\n",
      "Epoch 8/40\n",
      "118/118 [==============================] - 0s 729us/step - loss: 1.2559 - acc: 0.5424 - val_loss: 1.3704 - val_acc: 0.4286\n",
      "Epoch 9/40\n",
      "118/118 [==============================] - 0s 688us/step - loss: 1.1872 - acc: 0.6186 - val_loss: 1.2670 - val_acc: 0.6429\n",
      "Epoch 10/40\n",
      "118/118 [==============================] - 0s 655us/step - loss: 1.0660 - acc: 0.6780 - val_loss: 1.2936 - val_acc: 0.4286\n",
      "Epoch 11/40\n",
      "118/118 [==============================] - 0s 815us/step - loss: 0.9713 - acc: 0.6525 - val_loss: 1.2389 - val_acc: 0.4286\n",
      "Epoch 12/40\n",
      "118/118 [==============================] - 0s 1ms/step - loss: 0.8830 - acc: 0.7119 - val_loss: 1.1384 - val_acc: 0.5714\n",
      "Epoch 13/40\n",
      "118/118 [==============================] - 0s 744us/step - loss: 0.7442 - acc: 0.7881 - val_loss: 1.0912 - val_acc: 0.6429\n",
      "Epoch 14/40\n",
      "118/118 [==============================] - 0s 688us/step - loss: 0.6764 - acc: 0.8305 - val_loss: 1.2324 - val_acc: 0.4286\n",
      "Epoch 15/40\n",
      "118/118 [==============================] - 0s 992us/step - loss: 0.5777 - acc: 0.8475 - val_loss: 0.8691 - val_acc: 0.6429\n",
      "Epoch 16/40\n",
      "118/118 [==============================] - 0s 593us/step - loss: 0.5115 - acc: 0.8559 - val_loss: 1.0493 - val_acc: 0.6429\n",
      "Epoch 17/40\n",
      "118/118 [==============================] - 0s 756us/step - loss: 0.4224 - acc: 0.8814 - val_loss: 1.0467 - val_acc: 0.5714\n",
      "Epoch 18/40\n",
      "118/118 [==============================] - 0s 887us/step - loss: 0.3573 - acc: 0.8559 - val_loss: 1.1022 - val_acc: 0.6429\n",
      "Epoch 19/40\n",
      "118/118 [==============================] - 0s 820us/step - loss: 0.3433 - acc: 0.8983 - val_loss: 0.8706 - val_acc: 0.7143\n",
      "Epoch 20/40\n",
      "118/118 [==============================] - 0s 694us/step - loss: 0.3219 - acc: 0.8983 - val_loss: 1.0587 - val_acc: 0.5714\n",
      "Epoch 21/40\n",
      "118/118 [==============================] - 0s 698us/step - loss: 0.2974 - acc: 0.9068 - val_loss: 0.7673 - val_acc: 0.5714\n",
      "Epoch 22/40\n",
      "118/118 [==============================] - 0s 745us/step - loss: 0.3043 - acc: 0.8729 - val_loss: 1.2013 - val_acc: 0.5714\n",
      "Epoch 23/40\n",
      "118/118 [==============================] - 0s 723us/step - loss: 0.2803 - acc: 0.8983 - val_loss: 1.1344 - val_acc: 0.6429\n",
      "Epoch 24/40\n",
      "118/118 [==============================] - 0s 663us/step - loss: 0.4078 - acc: 0.8559 - val_loss: 0.6392 - val_acc: 0.7143\n",
      "Epoch 25/40\n",
      "118/118 [==============================] - 0s 637us/step - loss: 0.4045 - acc: 0.8475 - val_loss: 1.2844 - val_acc: 0.6429\n",
      "Epoch 26/40\n",
      "118/118 [==============================] - 0s 700us/step - loss: 0.4014 - acc: 0.8475 - val_loss: 0.7575 - val_acc: 0.7143\n",
      "Epoch 27/40\n",
      "118/118 [==============================] - 0s 637us/step - loss: 0.2433 - acc: 0.9237 - val_loss: 1.0232 - val_acc: 0.6429\n",
      "Epoch 28/40\n",
      "118/118 [==============================] - 0s 735us/step - loss: 0.2067 - acc: 0.9322 - val_loss: 1.1957 - val_acc: 0.5714\n",
      "Epoch 29/40\n",
      "118/118 [==============================] - 0s 684us/step - loss: 0.2203 - acc: 0.9407 - val_loss: 0.7352 - val_acc: 0.6429\n",
      "Epoch 30/40\n",
      "118/118 [==============================] - 0s 802us/step - loss: 0.1602 - acc: 0.9661 - val_loss: 0.6892 - val_acc: 0.6429\n",
      "Epoch 31/40\n",
      "118/118 [==============================] - 0s 673us/step - loss: 0.1506 - acc: 0.9492 - val_loss: 0.9714 - val_acc: 0.7143\n",
      "Epoch 32/40\n",
      "118/118 [==============================] - 0s 735us/step - loss: 0.1392 - acc: 0.9746 - val_loss: 1.0026 - val_acc: 0.5714\n",
      "Epoch 33/40\n",
      "118/118 [==============================] - 0s 651us/step - loss: 0.1572 - acc: 0.9576 - val_loss: 0.6315 - val_acc: 0.6429\n",
      "Epoch 34/40\n",
      "118/118 [==============================] - 0s 761us/step - loss: 0.1520 - acc: 0.9576 - val_loss: 0.6076 - val_acc: 0.7143\n",
      "Epoch 35/40\n",
      "118/118 [==============================] - 0s 730us/step - loss: 0.0921 - acc: 0.9915 - val_loss: 1.2484 - val_acc: 0.5714\n",
      "Epoch 36/40\n",
      "118/118 [==============================] - 0s 676us/step - loss: 0.1231 - acc: 0.9576 - val_loss: 0.9109 - val_acc: 0.7143\n",
      "Epoch 37/40\n",
      "118/118 [==============================] - 0s 718us/step - loss: 0.0979 - acc: 0.9492 - val_loss: 0.6652 - val_acc: 0.7143\n",
      "Epoch 38/40\n",
      "118/118 [==============================] - 0s 646us/step - loss: 0.0834 - acc: 0.9915 - val_loss: 0.8912 - val_acc: 0.6429\n",
      "Epoch 39/40\n",
      "118/118 [==============================] - 0s 757us/step - loss: 0.0932 - acc: 0.9831 - val_loss: 0.7183 - val_acc: 0.7143\n",
      "Epoch 40/40\n",
      "118/118 [==============================] - 0s 671us/step - loss: 0.0700 - acc: 1.0000 - val_loss: 0.8292 - val_acc: 0.7143\n"
     ]
    },
    {
     "data": {
      "text/plain": [
       "<keras.callbacks.callbacks.History at 0x2c60c461d08>"
      ]
     },
     "execution_count": 41,
     "metadata": {},
     "output_type": "execute_result"
    }
   ],
   "source": [
    "model.compile(optimizer='adam',loss='categorical_crossentropy',metrics=['acc'])\n",
    "model.fit(emb_XT,YT,batch_size=32,epochs=40,shuffle=True,validation_split=0.1)"
   ]
  },
  {
   "cell_type": "code",
   "execution_count": 51,
   "metadata": {},
   "outputs": [],
   "source": [
    "pred = model.predict_classes(emb_XT)"
   ]
  },
  {
   "cell_type": "code",
   "execution_count": 43,
   "metadata": {},
   "outputs": [
    {
     "name": "stdout",
     "output_type": "stream",
     "text": [
      "I want to eat\n",
      "🍴\n",
      "🍴\n",
      "he did not answer\n",
      "😓\n",
      "😓\n",
      "he got a raise\n",
      "😁\n",
      "😓\n",
      "she got me a present\n",
      "❤️\n",
      "😓\n",
      "ha ha ha it was so funny\n",
      "😁\n",
      "😁\n",
      "he is a good friend\n",
      "❤️\n",
      "😁\n",
      "I am upset\n",
      "❤️\n",
      "😓\n",
      "We had such a lovely dinner tonight\n",
      "❤️\n",
      "😁\n",
      "where is the food\n",
      "🍴\n",
      "🍴\n",
      "Stop making this joke ha ha ha\n",
      "😁\n",
      "😁\n",
      "where is the ball\n",
      "⚾\n",
      "⚾\n",
      "work is hard\n",
      "😓\n",
      "😁\n",
      "This girl is messing with me\n",
      "😓\n",
      "❤️\n",
      "are you serious ha ha\n",
      "😁\n",
      "😓\n",
      "Let us go play baseball\n",
      "⚾\n",
      "⚾\n",
      "This stupid grader is not working\n",
      "😓\n",
      "😓\n",
      "work is horrible\n",
      "😓\n",
      "😓\n",
      "Congratulation for having a baby\n",
      "😁\n",
      "😁\n",
      "stop messing around\n",
      "😓\n",
      "⚾\n",
      "any suggestions for dinner\n",
      "🍴\n",
      "🍴\n",
      "I love taking breaks\n",
      "❤️\n",
      "😓\n",
      "you brighten my day\n",
      "😁\n",
      "❤️\n",
      "I boiled rice\n",
      "🍴\n",
      "🍴\n",
      "she is a bully\n",
      "😓\n",
      "❤️\n",
      "Why are you feeling bad\n",
      "😓\n",
      "😓\n",
      "I am upset\n",
      "😓\n",
      "😓\n",
      "I worked during my birthday\n",
      "😓\n",
      "😁\n",
      "My grandmother is the love of my life\n",
      "❤️\n",
      "❤️\n",
      "enjoy your break\n",
      "😁\n",
      "⚾\n",
      "valentine day is near\n",
      "❤️\n",
      "😁\n"
     ]
    }
   ],
   "source": [
    "for i in range(30):\n",
    "    print(' '.join(Xt[i]))\n",
    "    print(emoji.emojize(emoji_dictionary[str(np.argmax(Yt[i]))]))\n",
    "    print(emoji.emojize(emoji_dictionary[str(pred[i])]))"
   ]
  },
  {
   "cell_type": "code",
   "execution_count": 44,
   "metadata": {},
   "outputs": [],
   "source": [
    "##Save weights\n",
    "with open('model.json','w') as file:\n",
    "    file.write(model.to_json())\n",
    "model.save_weights('weights.h5')"
   ]
  },
  {
   "cell_type": "code",
   "execution_count": 45,
   "metadata": {},
   "outputs": [],
   "source": [
    "from keras.models import model_from_json"
   ]
  },
  {
   "cell_type": "code",
   "execution_count": null,
   "metadata": {},
   "outputs": [],
   "source": []
  }
 ],
 "metadata": {
  "kernelspec": {
   "display_name": "Python 3",
   "language": "python",
   "name": "python3"
  },
  "language_info": {
   "codemirror_mode": {
    "name": "ipython",
    "version": 3
   },
   "file_extension": ".py",
   "mimetype": "text/x-python",
   "name": "python",
   "nbconvert_exporter": "python",
   "pygments_lexer": "ipython3",
   "version": "3.7.4"
  }
 },
 "nbformat": 4,
 "nbformat_minor": 2
}
